{
 "cells": [
  {
   "cell_type": "markdown",
   "metadata": {},
   "source": [
    "Q1 : Create a list containing the Address of Fingertips."
   ]
  },
  {
   "cell_type": "code",
   "execution_count": 11,
   "metadata": {},
   "outputs": [
    {
     "data": {
      "text/plain": [
       "str"
      ]
     },
     "execution_count": 11,
     "metadata": {},
     "output_type": "execute_result"
    }
   ],
   "source": [
    "address=\"201, Olive Arcade, Chimanlal Girdharlal Rd, opp. Samudra Complex, Navrangpura, Ahmedabad, Gujarat\"\n",
    "type(address)"
   ]
  },
  {
   "cell_type": "code",
   "execution_count": 13,
   "metadata": {},
   "outputs": [
    {
     "data": {
      "text/plain": [
       "['201',\n",
       " ' Olive Arcade',\n",
       " ' Chimanlal Girdharlal Rd',\n",
       " ' opp. Samudra Complex',\n",
       " ' Navrangpura',\n",
       " ' Ahmedabad',\n",
       " ' Gujarat']"
      ]
     },
     "execution_count": 13,
     "metadata": {},
     "output_type": "execute_result"
    }
   ],
   "source": [
    "List=address.split(',')\n",
    "List"
   ]
  },
  {
   "cell_type": "markdown",
   "metadata": {},
   "source": [
    "Q2 : insert ABCD at 5th place in the address."
   ]
  },
  {
   "cell_type": "code",
   "execution_count": 17,
   "metadata": {},
   "outputs": [
    {
     "data": {
      "text/plain": [
       "['201',\n",
       " ' Olive Arcade',\n",
       " ' Chimanlal Girdharlal Rd',\n",
       " ' opp. Samudra Complex',\n",
       " 'ABCD',\n",
       " ' Navrangpura',\n",
       " ' Ahmedabad',\n",
       " ' Gujarat']"
      ]
     },
     "execution_count": 17,
     "metadata": {},
     "output_type": "execute_result"
    }
   ],
   "source": [
    "List.insert(4,\"ABCD\")\n",
    "List"
   ]
  },
  {
   "cell_type": "markdown",
   "metadata": {},
   "source": [
    "Q3 : create a list L1 containing XYZ, ABC, GHI and append it at the beginning of address list."
   ]
  },
  {
   "cell_type": "code",
   "execution_count": 23,
   "metadata": {},
   "outputs": [
    {
     "data": {
      "text/plain": [
       "['XYZ',\n",
       " 'ABC',\n",
       " 'GHI',\n",
       " '201',\n",
       " ' Olive Arcade',\n",
       " ' Chimanlal Girdharlal Rd',\n",
       " ' opp. Samudra Complex',\n",
       " 'ABCD',\n",
       " ' Navrangpura',\n",
       " ' Ahmedabad',\n",
       " ' Gujarat']"
      ]
     },
     "execution_count": 23,
     "metadata": {},
     "output_type": "execute_result"
    }
   ],
   "source": [
    "L1 = [\"XYZ\",\"ABC\",\"GHI\"]\n",
    "L1.extend(List)\n",
    "L1"
   ]
  },
  {
   "cell_type": "markdown",
   "metadata": {},
   "source": [
    "O4 : Find the minimum value from the list containing the numbers 2.3, 4.445, 3, 5.33, 1.054, 2.5."
   ]
  },
  {
   "cell_type": "code",
   "execution_count": 27,
   "metadata": {},
   "outputs": [
    {
     "name": "stdout",
     "output_type": "stream",
     "text": [
      "1.054\n"
     ]
    }
   ],
   "source": [
    "lis = [2.3, 4.445, 3, 5.33, 1.054, 2.5]\n",
    "print(min(lis))"
   ]
  },
  {
   "cell_type": "markdown",
   "metadata": {},
   "source": [
    "Q5 : Sort the given data structure (both tuple and list) in decending order containing values 2.3, 4.445, 3, 5.33, 1.054, 2.5. "
   ]
  },
  {
   "cell_type": "code",
   "execution_count": 29,
   "metadata": {},
   "outputs": [
    {
     "name": "stdout",
     "output_type": "stream",
     "text": [
      "[5.33, 4.445, 3, 2.5, 2.3, 1.054]\n"
     ]
    }
   ],
   "source": [
    "List = [2.3, 4.445, 3, 5.33, 1.054, 2.5]\n",
    "List.sort(reverse=True)\n",
    "print(List) "
   ]
  },
  {
   "cell_type": "markdown",
   "metadata": {},
   "source": [
    "Q6 : Create a list which contains the numbers 1,2,4,8,5,3,5,7,4,1,2,6,6,8,2,6. and now find the occurance of the 6 in the list."
   ]
  },
  {
   "cell_type": "code",
   "execution_count": 31,
   "metadata": {},
   "outputs": [
    {
     "name": "stdout",
     "output_type": "stream",
     "text": [
      "11\n",
      "3\n"
     ]
    }
   ],
   "source": [
    "List = [1,2,4,8,5,3,5,7,4,1,2,6,6,8,2,6]\n",
    "print(List.index(6))\n",
    "print(List.count(6))"
   ]
  },
  {
   "cell_type": "markdown",
   "metadata": {},
   "source": [
    "Q7 : print the index of the first occurrence of number 5 in the above list. "
   ]
  },
  {
   "cell_type": "code",
   "execution_count": 33,
   "metadata": {},
   "outputs": [
    {
     "data": {
      "text/plain": [
       "4"
      ]
     },
     "execution_count": 33,
     "metadata": {},
     "output_type": "execute_result"
    }
   ],
   "source": [
    "List.index(5)"
   ]
  },
  {
   "cell_type": "markdown",
   "metadata": {},
   "source": [
    "Q8 : Sort the above list in ascending order."
   ]
  },
  {
   "cell_type": "code",
   "execution_count": 35,
   "metadata": {},
   "outputs": [
    {
     "name": "stdout",
     "output_type": "stream",
     "text": [
      "[1.054, 2.3, 2.5, 3, 4.445, 5.33]\n"
     ]
    }
   ],
   "source": [
    "List = [2.3, 4.445, 3, 5.33, 1.054, 2.5]\n",
    "List.sort(reverse=False)\n",
    "print(List) "
   ]
  },
  {
   "cell_type": "markdown",
   "metadata": {},
   "source": [
    "Q9 : Create a tuple having values abc,bcd,cde,def and efg and convert it to List."
   ]
  },
  {
   "cell_type": "code",
   "execution_count": 37,
   "metadata": {},
   "outputs": [
    {
     "data": {
      "text/plain": [
       "['abc', 'bcd', 'cde', 'def', 'efg']"
      ]
     },
     "execution_count": 37,
     "metadata": {},
     "output_type": "execute_result"
    }
   ],
   "source": [
    "tup = (\"abc\",\"bcd\",\"cde\",\"def\",\"efg\")\n",
    "lis = list(tup)\n",
    "lis"
   ]
  },
  {
   "cell_type": "markdown",
   "metadata": {},
   "source": [
    "Q10 : Convert a set having values efg,def,cde,bcd and abc to list and sort the list in ascending order."
   ]
  },
  {
   "cell_type": "code",
   "execution_count": 39,
   "metadata": {},
   "outputs": [
    {
     "data": {
      "text/plain": [
       "['abc', 'bcd', 'cde', 'def', 'efg']"
      ]
     },
     "execution_count": 39,
     "metadata": {},
     "output_type": "execute_result"
    }
   ],
   "source": [
    "Set = {\"efg\",\"def\",\"cde\",\"bcd\",\"abc\"}\n",
    "StoL = list(Set)\n",
    "StoL.sort()\n",
    "StoL"
   ]
  },
  {
   "cell_type": "code",
   "execution_count": null,
   "metadata": {},
   "outputs": [],
   "source": []
  }
 ],
 "metadata": {
  "kernelspec": {
   "display_name": "Python 3 (ipykernel)",
   "language": "python",
   "name": "python3"
  },
  "language_info": {
   "codemirror_mode": {
    "name": "ipython",
    "version": 3
   },
   "file_extension": ".py",
   "mimetype": "text/x-python",
   "name": "python",
   "nbconvert_exporter": "python",
   "pygments_lexer": "ipython3",
   "version": "3.12.4"
  }
 },
 "nbformat": 4,
 "nbformat_minor": 4
}

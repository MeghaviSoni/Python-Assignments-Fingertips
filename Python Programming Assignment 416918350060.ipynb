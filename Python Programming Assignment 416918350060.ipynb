{
 "cells": [
  {
   "cell_type": "markdown",
   "metadata": {},
   "source": [
    "Q1 : Take values of length and breadth of a rectangle from user and check if it is square or not.\n"
   ]
  },
  {
   "cell_type": "code",
   "execution_count": 5,
   "metadata": {},
   "outputs": [
    {
     "name": "stdin",
     "output_type": "stream",
     "text": [
      "Enter Length: 45\n",
      "Enter Breadth: 45\n"
     ]
    },
    {
     "name": "stdout",
     "output_type": "stream",
     "text": [
      "It's Square\n"
     ]
    }
   ],
   "source": [
    "length = int(input(\"Enter Length:\"))\n",
    "breadth = int(input(\"Enter Breadth:\"))\n",
    "\n",
    "if length == breadth:\n",
    "    print(\"It's Square\")\n",
    "else:\n",
    "    print(\"Not a Square\")"
   ]
  },
  {
   "cell_type": "markdown",
   "metadata": {},
   "source": [
    "Q2 : Take Input of 3 numbers and find maximum of them."
   ]
  },
  {
   "cell_type": "code",
   "execution_count": 7,
   "metadata": {},
   "outputs": [
    {
     "name": "stdin",
     "output_type": "stream",
     "text": [
      "Enter a 23\n",
      "Enter b 56\n",
      "Enter c 89\n"
     ]
    },
    {
     "name": "stdout",
     "output_type": "stream",
     "text": [
      "89 is Maximum\n"
     ]
    }
   ],
   "source": [
    "a = int(input(\"Enter a\"))\n",
    "b = int(input(\"Enter b\"))\n",
    "c = int(input(\"Enter c\"))\n",
    "\n",
    "if a>b and a>c:\n",
    "    print(a,\"is Maximum.\")\n",
    "elif b>c and b>a:\n",
    "    print(b,\"is Maximum.\")\n",
    "else:\n",
    "    print(c,\"is Maximum\")"
   ]
  },
  {
   "cell_type": "markdown",
   "metadata": {},
   "source": [
    "Q3 : Find the year is leap year or not."
   ]
  },
  {
   "cell_type": "code",
   "execution_count": 11,
   "metadata": {},
   "outputs": [
    {
     "name": "stdin",
     "output_type": "stream",
     "text": [
      "Which year?  2024\n"
     ]
    },
    {
     "name": "stdout",
     "output_type": "stream",
     "text": [
      "leap year\n"
     ]
    }
   ],
   "source": [
    "year = int(input(\"Which year? \"))\n",
    "\n",
    "if year % 4:\n",
    "    # not divisible by 4\n",
    "    print(\"no leap year\")\n",
    "elif year % 100 == 0 and year % 400 != 0:\n",
    "    print(\"no leap year\")\n",
    "else:\n",
    "    print(\"leap year\")"
   ]
  },
  {
   "cell_type": "markdown",
   "metadata": {},
   "source": [
    "Q4 : Print First 10 natural numbers using while loop."
   ]
  },
  {
   "cell_type": "code",
   "execution_count": 15,
   "metadata": {},
   "outputs": [
    {
     "name": "stdout",
     "output_type": "stream",
     "text": [
      "1\n",
      "2\n",
      "3\n",
      "4\n",
      "5\n",
      "6\n",
      "7\n",
      "8\n",
      "9\n",
      "10\n"
     ]
    }
   ],
   "source": [
    "i = 1\n",
    "while i <= 10:\n",
    "    print(i)\n",
    "    i += 1"
   ]
  },
  {
   "cell_type": "markdown",
   "metadata": {},
   "source": [
    "Q5 : Print the following pattern.\n",
    "\n",
    "1 \n",
    "\n",
    "1 2 \n",
    "\n",
    "1 2 3 \n",
    "\n",
    "1 2 3 4 \n",
    "\n",
    "1 2 3 4 5"
   ]
  },
  {
   "cell_type": "code",
   "execution_count": 17,
   "metadata": {},
   "outputs": [
    {
     "name": "stdout",
     "output_type": "stream",
     "text": [
      "1 \n",
      "1 2 \n",
      "1 2 3 \n",
      "1 2 3 4 \n",
      "1 2 3 4 5 \n"
     ]
    }
   ],
   "source": [
    "lastNumber = 6\n",
    "for row in range(1, lastNumber):\n",
    "    for column in range(1, row + 1):\n",
    "        print(column, end=' ')\n",
    "    print(\"\")"
   ]
  },
  {
   "cell_type": "markdown",
   "metadata": {},
   "source": [
    "Q6 : Print the following pattern.\n",
    "\n",
    "+\n",
    "\n",
    "++\n",
    "\n",
    "+++\n",
    "\n",
    "++++\n",
    "\n",
    "+++++\n",
    "\n",
    "++++\n",
    "\n",
    "+++\n",
    "\n",
    "++\n",
    "\n",
    "+"
   ]
  },
  {
   "cell_type": "code",
   "execution_count": 19,
   "metadata": {},
   "outputs": [
    {
     "name": "stdout",
     "output_type": "stream",
     "text": [
      "+ \n",
      "+ + \n",
      "+ + + \n",
      "+ + + + \n",
      "+ + + + + \n",
      "+ + + + \n",
      "+ + + \n",
      "+ + \n",
      "+ \n",
      "\n"
     ]
    }
   ],
   "source": [
    "rows = 5\n",
    "for i in range(0, rows):\n",
    "    for j in range(0, i + 1):\n",
    "        print(\"+\", end=' ')\n",
    "    print(\"\\r\")\n",
    "\n",
    "for i in range(rows, 0, -1):\n",
    "    for j in range(0, i - 1):\n",
    "        print(\"+\", end=' ')\n",
    "    print(\"\\r\")"
   ]
  },
  {
   "cell_type": "markdown",
   "metadata": {},
   "source": [
    "Q7 : Find the sum of the series 1 + 11 + 111 + 1111 + .. n terms. (take input of n from User)"
   ]
  },
  {
   "cell_type": "code",
   "execution_count": 21,
   "metadata": {},
   "outputs": [
    {
     "name": "stdin",
     "output_type": "stream",
     "text": [
      "Number od terms = 3\n"
     ]
    },
    {
     "name": "stdout",
     "output_type": "stream",
     "text": [
      "1 11 111 \n",
      "Sum of above series is: 123\n"
     ]
    }
   ],
   "source": [
    "number_of_terms = int(input(\"Number od terms =\"))\n",
    "start = 1\n",
    "sum = 0\n",
    "for i in range(0, number_of_terms):\n",
    "    print(start, end=\" \")\n",
    "    sum += start\n",
    "    start = (start * 10) + 1\n",
    "print(\"\\nSum of above series is:\", sum)"
   ]
  },
  {
   "cell_type": "markdown",
   "metadata": {},
   "source": [
    "Q8 : Display the cube of the number up to a given integer specified by user."
   ]
  },
  {
   "cell_type": "code",
   "execution_count": 23,
   "metadata": {},
   "outputs": [
    {
     "name": "stdin",
     "output_type": "stream",
     "text": [
      "Given Number =  5\n"
     ]
    },
    {
     "name": "stdout",
     "output_type": "stream",
     "text": [
      "Current Number is : 1  and the cube is 1\n",
      "Current Number is : 2  and the cube is 8\n",
      "Current Number is : 3  and the cube is 27\n",
      "Current Number is : 4  and the cube is 64\n",
      "Current Number is : 5  and the cube is 125\n"
     ]
    }
   ],
   "source": [
    "input_number = int(input(\"Given Number = \"))\n",
    "for i in range(1, input_number + 1):\n",
    "    print(\"Current Number is :\", i, \" and the cube is\", (i * i * i))"
   ]
  },
  {
   "cell_type": "markdown",
   "metadata": {},
   "source": [
    "Q9 : Use a loop to display elements from a given list which are present at even positions.\n",
    "\n",
    "List = [1,2,3,4,5,6,7,8,9,0]"
   ]
  },
  {
   "cell_type": "code",
   "execution_count": 25,
   "metadata": {},
   "outputs": [
    {
     "name": "stdout",
     "output_type": "stream",
     "text": [
      "2 4 6 8 0 "
     ]
    }
   ],
   "source": [
    "List = [1,2,3,4,5,6,7,8,9,0]\n",
    "for i in List[1::2]:\n",
    "    print(i, end=\" \")"
   ]
  },
  {
   "cell_type": "markdown",
   "metadata": {},
   "source": [
    "\n",
    "Q10 : Reverse a user defined integer number."
   ]
  },
  {
   "cell_type": "code",
   "execution_count": 27,
   "metadata": {},
   "outputs": [
    {
     "name": "stdin",
     "output_type": "stream",
     "text": [
      "Value of Number is :  123456\n"
     ]
    },
    {
     "name": "stdout",
     "output_type": "stream",
     "text": [
      "Given Number :  123456\n",
      "Revered Number :  654321\n"
     ]
    }
   ],
   "source": [
    "num = int(input(\"Value of Number is : \"))\n",
    "reverse_number = 0\n",
    "print(\"Given Number : \", num)\n",
    "while num > 0:\n",
    "    reminder = num % 10\n",
    "    reverse_number = (reverse_number * 10) + reminder\n",
    "    num = num // 10\n",
    "print(\"Revered Number : \", reverse_number)"
   ]
  },
  {
   "cell_type": "code",
   "execution_count": null,
   "metadata": {},
   "outputs": [],
   "source": []
  }
 ],
 "metadata": {
  "kernelspec": {
   "display_name": "Python 3 (ipykernel)",
   "language": "python",
   "name": "python3"
  },
  "language_info": {
   "codemirror_mode": {
    "name": "ipython",
    "version": 3
   },
   "file_extension": ".py",
   "mimetype": "text/x-python",
   "name": "python",
   "nbconvert_exporter": "python",
   "pygments_lexer": "ipython3",
   "version": "3.12.4"
  }
 },
 "nbformat": 4,
 "nbformat_minor": 4
}
